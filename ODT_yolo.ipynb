!pip install ultralytics
Requirement already satisfied: ultralytics in c:\users\eyabe\anaconda3\lib\site-packages (8.2.55)
Requirement already satisfied: scipy>=1.4.1 in c:\users\eyabe\anaconda3\lib\site-packages (from ultralytics) (1.13.1)
Requirement already satisfied: numpy<2.0.0,>=1.23.0 in c:\users\eyabe\anaconda3\lib\site-packages (from ultralytics) (1.26.4)
Requirement already satisfied: ultralytics-thop>=2.0.0 in c:\users\eyabe\anaconda3\lib\site-packages (from ultralytics) (2.0.0)
Requirement already satisfied: seaborn>=0.11.0 in c:\users\eyabe\anaconda3\lib\site-packages (from ultralytics) (0.11.2)
Requirement already satisfied: torchvision>=0.9.0 in c:\users\eyabe\appdata\roaming\python\python39\site-packages (from ultralytics) (0.18.1)
Requirement already satisfied: opencv-python>=4.6.0 in c:\users\eyabe\anaconda3\lib\site-packages (from ultralytics) (4.10.0.84)
Requirement already satisfied: matplotlib>=3.3.0 in c:\users\eyabe\anaconda3\lib\site-packages (from ultralytics) (3.4.3)
Requirement already satisfied: tqdm>=4.64.0 in c:\users\eyabe\anaconda3\lib\site-packages (from ultralytics) (4.66.4)
Requirement already satisfied: psutil in c:\users\eyabe\anaconda3\lib\site-packages (from ultralytics) (5.8.0)
Requirement already satisfied: pillow>=7.1.2 in c:\users\eyabe\anaconda3\lib\site-packages (from ultralytics) (8.4.0)
Requirement already satisfied: py-cpuinfo in c:\users\eyabe\anaconda3\lib\site-packages (from ultralytics) (9.0.0)
Requirement already satisfied: pandas>=1.1.4 in c:\users\eyabe\anaconda3\lib\site-packages (from ultralytics) (1.3.4)
Requirement already satisfied: torch>=1.8.0 in c:\users\eyabe\appdata\roaming\python\python39\site-packages (from ultralytics) (2.3.1)
Requirement already satisfied: pyyaml>=5.3.1 in c:\users\eyabe\anaconda3\lib\site-packages (from ultralytics) (6.0)
Requirement already satisfied: requests>=2.23.0 in c:\users\eyabe\anaconda3\lib\site-packages (from ultralytics) (2.26.0)
Requirement already satisfied: cycler>=0.10 in c:\users\eyabe\anaconda3\lib\site-packages (from matplotlib>=3.3.0->ultralytics) (0.10.0)
Requirement already satisfied: kiwisolver>=1.0.1 in c:\users\eyabe\anaconda3\lib\site-packages (from matplotlib>=3.3.0->ultralytics) (1.3.1)
Requirement already satisfied: python-dateutil>=2.7 in c:\users\eyabe\anaconda3\lib\site-packages (from matplotlib>=3.3.0->ultralytics) (2.8.2)
Requirement already satisfied: pyparsing>=2.2.1 in c:\users\eyabe\anaconda3\lib\site-packages (from matplotlib>=3.3.0->ultralytics) (3.0.4)
Requirement already satisfied: six in c:\users\eyabe\anaconda3\lib\site-packages (from cycler>=0.10->matplotlib>=3.3.0->ultralytics) (1.16.0)
Requirement already satisfied: pytz>=2017.3 in c:\users\eyabe\anaconda3\lib\site-packages (from pandas>=1.1.4->ultralytics) (2021.3)
Requirement already satisfied: idna<4,>=2.5 in c:\users\eyabe\anaconda3\lib\site-packages (from requests>=2.23.0->ultralytics) (3.2)
Requirement already satisfied: urllib3<1.27,>=1.21.1 in c:\users\eyabe\anaconda3\lib\site-packages (from requests>=2.23.0->ultralytics) (1.26.7)
Requirement already satisfied: charset-normalizer~=2.0.0 in c:\users\eyabe\anaconda3\lib\site-packages (from requests>=2.23.0->ultralytics) (2.0.4)
Requirement already satisfied: certifi>=2017.4.17 in c:\users\eyabe\anaconda3\lib\site-packages (from requests>=2.23.0->ultralytics) (2021.10.8)
Requirement already satisfied: fsspec in c:\users\eyabe\anaconda3\lib\site-packages (from torch>=1.8.0->ultralytics) (2024.6.1)
Requirement already satisfied: filelock in c:\users\eyabe\anaconda3\lib\site-packages (from torch>=1.8.0->ultralytics) (3.3.1)
Requirement already satisfied: sympy in c:\users\eyabe\anaconda3\lib\site-packages (from torch>=1.8.0->ultralytics) (1.9)
Requirement already satisfied: mkl<=2021.4.0,>=2021.1.1 in c:\users\eyabe\appdata\roaming\python\python39\site-packages (from torch>=1.8.0->ultralytics) (2021.4.0)
Requirement already satisfied: networkx in c:\users\eyabe\anaconda3\lib\site-packages (from torch>=1.8.0->ultralytics) (2.6.3)
Requirement already satisfied: jinja2 in c:\users\eyabe\anaconda3\lib\site-packages (from torch>=1.8.0->ultralytics) (2.11.3)
Requirement already satisfied: typing-extensions>=4.8.0 in c:\users\eyabe\anaconda3\lib\site-packages (from torch>=1.8.0->ultralytics) (4.12.2)
Requirement already satisfied: tbb==2021.* in c:\users\eyabe\anaconda3\lib\site-packages (from mkl<=2021.4.0,>=2021.1.1->torch>=1.8.0->ultralytics) (2021.13.0)
Requirement already satisfied: intel-openmp==2021.* in c:\users\eyabe\appdata\roaming\python\python39\site-packages (from mkl<=2021.4.0,>=2021.1.1->torch>=1.8.0->ultralytics) (2021.4.0)
Requirement already satisfied: colorama in c:\users\eyabe\anaconda3\lib\site-packages (from tqdm>=4.64.0->ultralytics) (0.4.4)
Requirement already satisfied: MarkupSafe>=0.23 in c:\users\eyabe\anaconda3\lib\site-packages (from jinja2->torch>=1.8.0->ultralytics) (1.1.1)
Requirement already satisfied: mpmath>=0.19 in c:\users\eyabe\anaconda3\lib\site-packages (from sympy->torch>=1.8.0->ultralytics) (1.2.1)
pip install opencv-python-headless --user
Requirement already satisfied: opencv-python-headless in c:\users\eyabe\appdata\roaming\python\python39\site-packages (4.10.0.84)
Requirement already satisfied: numpy>=1.17.0 in c:\users\eyabe\anaconda3\lib\site-packages (from opencv-python-headless) (1.26.4)
Note: you may need to restart the kernel to use updated packages.
pip install ultralytics opencv-python-headless pillow
Requirement already satisfied: ultralytics in c:\users\eyabe\anaconda3\lib\site-packages (8.2.55)
Requirement already satisfied: opencv-python-headless in c:\users\eyabe\appdata\roaming\python\python39\site-packages (4.10.0.84)
Requirement already satisfied: pillow in c:\users\eyabe\anaconda3\lib\site-packages (8.4.0)
Requirement already satisfied: matplotlib>=3.3.0 in c:\users\eyabe\anaconda3\lib\site-packages (from ultralytics) (3.4.3)
Requirement already satisfied: torchvision>=0.9.0 in c:\users\eyabe\appdata\roaming\python\python39\site-packages (from ultralytics) (0.18.1)
Requirement already satisfied: pyyaml>=5.3.1 in c:\users\eyabe\anaconda3\lib\site-packages (from ultralytics) (6.0)
Requirement already satisfied: py-cpuinfo in c:\users\eyabe\anaconda3\lib\site-packages (from ultralytics) (9.0.0)
Requirement already satisfied: pandas>=1.1.4 in c:\users\eyabe\anaconda3\lib\site-packages (from ultralytics) (1.3.4)
Requirement already satisfied: ultralytics-thop>=2.0.0 in c:\users\eyabe\anaconda3\lib\site-packages (from ultralytics) (2.0.0)
Requirement already satisfied: seaborn>=0.11.0 in c:\users\eyabe\anaconda3\lib\site-packages (from ultralytics) (0.11.2)
Requirement already satisfied: requests>=2.23.0 in c:\users\eyabe\anaconda3\lib\site-packages (from ultralytics) (2.26.0)
Requirement already satisfied: torch>=1.8.0 in c:\users\eyabe\appdata\roaming\python\python39\site-packages (from ultralytics) (2.3.1)
Requirement already satisfied: scipy>=1.4.1 in c:\users\eyabe\anaconda3\lib\site-packages (from ultralytics) (1.13.1)
Requirement already satisfied: tqdm>=4.64.0 in c:\users\eyabe\anaconda3\lib\site-packages (from ultralytics) (4.66.4)
Requirement already satisfied: psutil in c:\users\eyabe\anaconda3\lib\site-packages (from ultralytics) (5.8.0)
Requirement already satisfied: opencv-python>=4.6.0 in c:\users\eyabe\anaconda3\lib\site-packages (from ultralytics) (4.10.0.84)
Requirement already satisfied: numpy<2.0.0,>=1.23.0 in c:\users\eyabe\anaconda3\lib\site-packages (from ultralytics) (1.26.4)
Requirement already satisfied: python-dateutil>=2.7 in c:\users\eyabe\anaconda3\lib\site-packages (from matplotlib>=3.3.0->ultralytics) (2.8.2)
Requirement already satisfied: cycler>=0.10 in c:\users\eyabe\anaconda3\lib\site-packages (from matplotlib>=3.3.0->ultralytics) (0.10.0)
Requirement already satisfied: kiwisolver>=1.0.1 in c:\users\eyabe\anaconda3\lib\site-packages (from matplotlib>=3.3.0->ultralytics) (1.3.1)
Requirement already satisfied: pyparsing>=2.2.1 in c:\users\eyabe\anaconda3\lib\site-packages (from matplotlib>=3.3.0->ultralytics) (3.0.4)
Requirement already satisfied: six in c:\users\eyabe\anaconda3\lib\site-packages (from cycler>=0.10->matplotlib>=3.3.0->ultralytics) (1.16.0)
Requirement already satisfied: pytz>=2017.3 in c:\users\eyabe\anaconda3\lib\site-packages (from pandas>=1.1.4->ultralytics) (2021.3)
Requirement already satisfied: urllib3<1.27,>=1.21.1 in c:\users\eyabe\anaconda3\lib\site-packages (from requests>=2.23.0->ultralytics) (1.26.7)
Requirement already satisfied: certifi>=2017.4.17 in c:\users\eyabe\anaconda3\lib\site-packages (from requests>=2.23.0->ultralytics) (2021.10.8)
Requirement already satisfied: charset-normalizer~=2.0.0 in c:\users\eyabe\anaconda3\lib\site-packages (from requests>=2.23.0->ultralytics) (2.0.4)
Requirement already satisfied: idna<4,>=2.5 in c:\users\eyabe\anaconda3\lib\site-packages (from requests>=2.23.0->ultralytics) (3.2)
Requirement already satisfied: sympy in c:\users\eyabe\anaconda3\lib\site-packages (from torch>=1.8.0->ultralytics) (1.9)
Requirement already satisfied: jinja2 in c:\users\eyabe\anaconda3\lib\site-packages (from torch>=1.8.0->ultralytics) (2.11.3)
Requirement already satisfied: networkx in c:\users\eyabe\anaconda3\lib\site-packages (from torch>=1.8.0->ultralytics) (2.6.3)
Requirement already satisfied: typing-extensions>=4.8.0 in c:\users\eyabe\anaconda3\lib\site-packages (from torch>=1.8.0->ultralytics) (4.12.2)
Requirement already satisfied: mkl<=2021.4.0,>=2021.1.1 in c:\users\eyabe\appdata\roaming\python\python39\site-packages (from torch>=1.8.0->ultralytics) (2021.4.0)
Requirement already satisfied: filelock in c:\users\eyabe\anaconda3\lib\site-packages (from torch>=1.8.0->ultralytics) (3.3.1)
Requirement already satisfied: fsspec in c:\users\eyabe\anaconda3\lib\site-packages (from torch>=1.8.0->ultralytics) (2024.6.1)
Requirement already satisfied: intel-openmp==2021.* in c:\users\eyabe\appdata\roaming\python\python39\site-packages (from mkl<=2021.4.0,>=2021.1.1->torch>=1.8.0->ultralytics) (2021.4.0)
Requirement already satisfied: tbb==2021.* in c:\users\eyabe\anaconda3\lib\site-packages (from mkl<=2021.4.0,>=2021.1.1->torch>=1.8.0->ultralytics) (2021.13.0)
Requirement already satisfied: colorama in c:\users\eyabe\anaconda3\lib\site-packages (from tqdm>=4.64.0->ultralytics) (0.4.4)
Requirement already satisfied: MarkupSafe>=0.23 in c:\users\eyabe\anaconda3\lib\site-packages (from jinja2->torch>=1.8.0->ultralytics) (1.1.1)
Requirement already satisfied: mpmath>=0.19 in c:\users\eyabe\anaconda3\lib\site-packages (from sympy->torch>=1.8.0->ultralytics) (1.2.1)
Note: you may need to restart the kernel to use updated packages.
import os
from ultralytics import YOLO
import cv2
from IPython.display import Image, display

# Load the YOLOv8 model
model = YOLO('yolov8n.pt')

# COCO class labels
class_labels = model.names

# Input video path
input_video_path = './video2.mp4'
cap = cv2.VideoCapture(input_video_path)

# Check if the video was opened correctly
if not cap.isOpened():
    print(f"Error: Unable to open video '{input_video_path}'")
    exit()

# Output video path
output_dir = './runs/detect/track'
os.makedirs(output_dir, exist_ok=True)
output_video_path = os.path.join(output_dir, 'video.avi')
fourcc = cv2.VideoWriter_fourcc(*'XVID')
out = cv2.VideoWriter(output_video_path, fourcc, 30.0, (int(cap.get(cv2.CAP_PROP_FRAME_WIDTH)), int(cap.get(cv2.CAP_PROP_FRAME_HEIGHT))))

# Read frames and perform detection and tracking
frame_count = 0
max_frames = 300  # Limit frames to avoid infinite loop

while frame_count < max_frames:
    ret, frame = cap.read()
    if not ret:
        break

    # Detect objects with YOLOv8
    results = model(frame)

    # Draw results on the frame
    for result in results:
        boxes = result.boxes.xyxy.cpu().numpy()  # Bounding box coordinates
        scores = result.boxes.conf.cpu().numpy()  # Confidence scores
        classes = result.boxes.cls.cpu().numpy()  # Predicted classes

        for box, score, cls in zip(boxes, scores, classes):
            x1, y1, x2, y2 = map(int, box)
            class_id = int(cls)
            label = f'{class_labels[class_id]} {score:.2f}'

            # Draw the detection box on the image
            cv2.rectangle(frame, (x1, y1), (x2, y2), (0, 255, 0), 2)

            # Increase font size for the label text
            font_scale = 1.0
            font_thickness = 2
            font = cv2.FONT_HERSHEY_SIMPLEX
            text_size = cv2.getTextSize(label, font, font_scale, font_thickness)[0]
            text_x = x1
            text_y = y1 - 10

            # Ensure text stays within image boundaries
            if text_y - text_size[1] < 0:
                text_y = y1 + 10 + text_size[1]

            # Draw text background rectangle
            cv2.rectangle(frame, (text_x, text_y - text_size[1]), (text_x + text_size[0], text_y + 2), (0, 255, 0), cv2.FILLED)

            # Draw the label text on the image
            cv2.putText(frame, label, (text_x, text_y), font, font_scale, (0, 0, 0), font_thickness)

    # Write the processed frame to the output video
    out.write(frame)

    frame_count += 1

# Release the capture and close the output files
cap.release()
out.release()

# Check if the output video file exists before converting to GIF
if os.path.exists(output_video_path):
    # Convert the output video to GIF with larger scale and higher quality
    gif_output_path = os.path.join(output_dir, 'detections_high_quality.gif')
    ffmpeg_path = 'C:/Users/eyabe/Downloads/ffmpeg-master-latest-win64-gpl/bin/ffmpeg.exe'
    conversion_command = f'{ffmpeg_path} -y -i "{output_video_path}" -vf "fps=10,scale=640:-2" -b:v 2M "{gif_output_path}"'
    print(f"Running command: {conversion_command}")

    # Run ffmpeg command and capture the result
    result = os.system(conversion_command)
    
    # Check if the GIF was created successfully
    if result == 0 and os.path.exists(gif_output_path):
        # Display the GIF in the notebook
        display(Image(filename=gif_output_path))
    else:
        print(f"Error: GIF file was not created at '{gif_output_path}' or ffmpeg command failed. Check ffmpeg installation and permissions.")
else:
    print(f"Error: Output video file was not created at '{output_video_path}'")
0: 384x640 16 cars, 210.3ms
Speed: 14.0ms preprocess, 210.3ms inference, 5.2ms postprocess per image at shape (1, 3, 384, 640)

0: 384x640 17 cars, 1 truck, 134.0ms
Speed: 4.0ms preprocess, 134.0ms inference, 2.0ms postprocess per image at shape (1, 3, 384, 640)

0: 384x640 16 cars, 1 truck, 133.8ms
Speed: 2.0ms preprocess, 133.8ms inference, 2.0ms postprocess per image at shape (1, 3, 384, 640)

0: 384x640 17 cars, 2 trucks, 126.7ms
Speed: 2.9ms preprocess, 126.7ms inference, 1.9ms postprocess per image at shape (1, 3, 384, 640)

0: 384x640 16 cars, 1 truck, 127.9ms
Speed: 2.0ms preprocess, 127.9ms inference, 1.0ms postprocess per image at shape (1, 3, 384, 640)

0: 384x640 15 cars, 125.0ms
Speed: 1.9ms preprocess, 125.0ms inference, 2.0ms postprocess per image at shape (1, 3, 384, 640)

0: 384x640 15 cars, 1 truck, 143.6ms
Speed: 2.1ms preprocess, 143.6ms inference, 2.0ms postprocess per image at shape (1, 3, 384, 640)

0: 384x640 15 cars, 1 truck, 130.7ms
Speed: 1.9ms preprocess, 130.7ms inference, 2.0ms postprocess per image at shape (1, 3, 384, 640)

0: 384x640 15 cars, 1 truck, 131.0ms
Speed: 2.0ms preprocess, 131.0ms inference, 2.2ms postprocess per image at shape (1, 3, 384, 640)

0: 384x640 14 cars, 2 trucks, 135.1ms
Speed: 2.5ms preprocess, 135.1ms inference, 2.4ms postprocess per image at shape (1, 3, 384, 640)

0: 384x640 14 cars, 137.5ms
Speed: 2.4ms preprocess, 137.5ms inference, 1.0ms postprocess per image at shape (1, 3, 384, 640)

0: 384x640 14 cars, 132.9ms
Speed: 1.9ms preprocess, 132.9ms inference, 2.0ms postprocess per image at shape (1, 3, 384, 640)

0: 384x640 14 cars, 1 bus, 128.0ms
Speed: 2.0ms preprocess, 128.0ms inference, 1.0ms postprocess per image at shape (1, 3, 384, 640)

0: 384x640 14 cars, 141.2ms
Speed: 1.9ms preprocess, 141.2ms inference, 3.1ms postprocess per image at shape (1, 3, 384, 640)

0: 384x640 14 cars, 137.0ms
Speed: 2.1ms preprocess, 137.0ms inference, 2.0ms postprocess per image at shape (1, 3, 384, 640)

0: 384x640 14 cars, 125.5ms
Speed: 1.1ms preprocess, 125.5ms inference, 2.1ms postprocess per image at shape (1, 3, 384, 640)

0: 384x640 14 cars, 1 bus, 128.5ms
Speed: 4.0ms preprocess, 128.5ms inference, 3.0ms postprocess per image at shape (1, 3, 384, 640)

0: 384x640 14 cars, 128.9ms
Speed: 1.9ms preprocess, 128.9ms inference, 1.0ms postprocess per image at shape (1, 3, 384, 640)

0: 384x640 14 cars, 2 buss, 134.2ms
Speed: 2.0ms preprocess, 134.2ms inference, 1.9ms postprocess per image at shape (1, 3, 384, 640)

0: 384x640 13 cars, 1 bus, 174.1ms
Speed: 2.0ms preprocess, 174.1ms inference, 2.0ms postprocess per image at shape (1, 3, 384, 640)

0: 384x640 14 cars, 1 bus, 1 truck, 151.8ms
Speed: 2.9ms preprocess, 151.8ms inference, 2.0ms postprocess per image at shape (1, 3, 384, 640)

0: 384x640 14 cars, 1 truck, 134.7ms
Speed: 2.1ms preprocess, 134.7ms inference, 1.9ms postprocess per image at shape (1, 3, 384, 640)

0: 384x640 15 cars, 131.2ms
Speed: 2.0ms preprocess, 131.2ms inference, 1.9ms postprocess per image at shape (1, 3, 384, 640)

0: 384x640 14 cars, 1 truck, 130.3ms
Speed: 2.0ms preprocess, 130.3ms inference, 2.0ms postprocess per image at shape (1, 3, 384, 640)

0: 384x640 11 cars, 1 bus, 125.9ms
Speed: 2.0ms preprocess, 125.9ms inference, 2.1ms postprocess per image at shape (1, 3, 384, 640)

0: 384x640 11 cars, 1 bus, 127.2ms
Speed: 2.0ms preprocess, 127.2ms inference, 1.0ms postprocess per image at shape (1, 3, 384, 640)

0: 384x640 11 cars, 1 bus, 129.7ms
Speed: 2.0ms preprocess, 129.7ms inference, 2.0ms postprocess per image at shape (1, 3, 384, 640)

0: 384x640 12 cars, 1 bus, 133.0ms
Speed: 4.0ms preprocess, 133.0ms inference, 1.7ms postprocess per image at shape (1, 3, 384, 640)

0: 384x640 11 cars, 133.8ms
Speed: 2.9ms preprocess, 133.8ms inference, 1.0ms postprocess per image at shape (1, 3, 384, 640)

0: 384x640 11 cars, 1 bus, 164.1ms
Speed: 2.0ms preprocess, 164.1ms inference, 2.0ms postprocess per image at shape (1, 3, 384, 640)

0: 384x640 11 cars, 1 bus, 127.1ms
Speed: 3.7ms preprocess, 127.1ms inference, 2.0ms postprocess per image at shape (1, 3, 384, 640)

0: 384x640 11 cars, 129.5ms
Speed: 1.9ms preprocess, 129.5ms inference, 1.0ms postprocess per image at shape (1, 3, 384, 640)

0: 384x640 12 cars, 1 bus, 1 train, 128.6ms
Speed: 1.9ms preprocess, 128.6ms inference, 1.0ms postprocess per image at shape (1, 3, 384, 640)

0: 384x640 12 cars, 1 train, 129.7ms
Speed: 3.9ms preprocess, 129.7ms inference, 4.0ms postprocess per image at shape (1, 3, 384, 640)

0: 384x640 12 cars, 146.9ms
Speed: 2.0ms preprocess, 146.9ms inference, 2.0ms postprocess per image at shape (1, 3, 384, 640)

0: 384x640 13 cars, 129.6ms
Speed: 2.0ms preprocess, 129.6ms inference, 2.2ms postprocess per image at shape (1, 3, 384, 640)

0: 384x640 12 cars, 131.0ms
Speed: 2.1ms preprocess, 131.0ms inference, 2.0ms postprocess per image at shape (1, 3, 384, 640)

0: 384x640 12 cars, 124.7ms
Speed: 1.0ms preprocess, 124.7ms inference, 1.9ms postprocess per image at shape (1, 3, 384, 640)

0: 384x640 12 cars, 131.2ms
Speed: 2.0ms preprocess, 131.2ms inference, 1.0ms postprocess per image at shape (1, 3, 384, 640)

0: 384x640 13 cars, 124.6ms
Speed: 2.0ms preprocess, 124.6ms inference, 1.0ms postprocess per image at shape (1, 3, 384, 640)

0: 384x640 13 cars, 131.2ms
Speed: 2.6ms preprocess, 131.2ms inference, 3.0ms postprocess per image at shape (1, 3, 384, 640)

0: 384x640 14 cars, 141.7ms
Speed: 4.3ms preprocess, 141.7ms inference, 2.2ms postprocess per image at shape (1, 3, 384, 640)

0: 384x640 15 cars, 153.1ms
Speed: 4.5ms preprocess, 153.1ms inference, 2.1ms postprocess per image at shape (1, 3, 384, 640)

0: 384x640 14 cars, 129.9ms
Speed: 2.0ms preprocess, 129.9ms inference, 1.5ms postprocess per image at shape (1, 3, 384, 640)

0: 384x640 13 cars, 124.7ms
Speed: 3.8ms preprocess, 124.7ms inference, 2.0ms postprocess per image at shape (1, 3, 384, 640)

0: 384x640 13 cars, 130.7ms
Speed: 2.0ms preprocess, 130.7ms inference, 1.0ms postprocess per image at shape (1, 3, 384, 640)

0: 384x640 13 cars, 129.7ms
Speed: 2.0ms preprocess, 129.7ms inference, 2.0ms postprocess per image at shape (1, 3, 384, 640)

0: 384x640 11 cars, 129.7ms
Speed: 3.9ms preprocess, 129.7ms inference, 3.1ms postprocess per image at shape (1, 3, 384, 640)

0: 384x640 11 cars, 141.3ms
Speed: 2.0ms preprocess, 141.3ms inference, 2.1ms postprocess per image at shape (1, 3, 384, 640)

0: 384x640 12 cars, 128.4ms
Speed: 2.0ms preprocess, 128.4ms inference, 2.0ms postprocess per image at shape (1, 3, 384, 640)

0: 384x640 11 cars, 130.3ms
Speed: 2.0ms preprocess, 130.3ms inference, 2.0ms postprocess per image at shape (1, 3, 384, 640)

0: 384x640 11 cars, 128.6ms
Speed: 3.0ms preprocess, 128.6ms inference, 1.9ms postprocess per image at shape (1, 3, 384, 640)

0: 384x640 11 cars, 129.2ms
Speed: 2.0ms preprocess, 129.2ms inference, 2.0ms postprocess per image at shape (1, 3, 384, 640)

0: 384x640 11 cars, 126.6ms
Speed: 1.9ms preprocess, 126.6ms inference, 3.0ms postprocess per image at shape (1, 3, 384, 640)

0: 384x640 11 cars, 130.7ms
Speed: 1.9ms preprocess, 130.7ms inference, 2.0ms postprocess per image at shape (1, 3, 384, 640)

0: 384x640 11 cars, 126.0ms
Speed: 2.0ms preprocess, 126.0ms inference, 2.0ms postprocess per image at shape (1, 3, 384, 640)

0: 384x640 11 cars, 163.0ms
Speed: 1.8ms preprocess, 163.0ms inference, 2.2ms postprocess per image at shape (1, 3, 384, 640)

0: 384x640 12 cars, 135.1ms
Speed: 3.5ms preprocess, 135.1ms inference, 1.0ms postprocess per image at shape (1, 3, 384, 640)

0: 384x640 12 cars, 124.3ms
Speed: 2.0ms preprocess, 124.3ms inference, 2.0ms postprocess per image at shape (1, 3, 384, 640)

0: 384x640 12 cars, 127.0ms
Speed: 2.0ms preprocess, 127.0ms inference, 2.0ms postprocess per image at shape (1, 3, 384, 640)

0: 384x640 14 cars, 129.1ms
Speed: 1.9ms preprocess, 129.1ms inference, 2.0ms postprocess per image at shape (1, 3, 384, 640)

0: 384x640 14 cars, 133.6ms
Speed: 3.0ms preprocess, 133.6ms inference, 2.0ms postprocess per image at shape (1, 3, 384, 640)

0: 384x640 13 cars, 130.5ms
Speed: 3.3ms preprocess, 130.5ms inference, 2.1ms postprocess per image at shape (1, 3, 384, 640)

0: 384x640 13 cars, 130.7ms
Speed: 2.0ms preprocess, 130.7ms inference, 2.0ms postprocess per image at shape (1, 3, 384, 640)

0: 384x640 13 cars, 133.0ms
Speed: 3.0ms preprocess, 133.0ms inference, 2.0ms postprocess per image at shape (1, 3, 384, 640)

0: 384x640 13 cars, 129.1ms
Speed: 4.2ms preprocess, 129.1ms inference, 3.0ms postprocess per image at shape (1, 3, 384, 640)

0: 384x640 12 cars, 130.7ms
Speed: 2.0ms preprocess, 130.7ms inference, 2.1ms postprocess per image at shape (1, 3, 384, 640)

0: 384x640 12 cars, 130.2ms
Speed: 2.0ms preprocess, 130.2ms inference, 1.0ms postprocess per image at shape (1, 3, 384, 640)

0: 384x640 12 cars, 131.4ms
Speed: 2.0ms preprocess, 131.4ms inference, 2.0ms postprocess per image at shape (1, 3, 384, 640)

0: 384x640 12 cars, 153.6ms
Speed: 3.0ms preprocess, 153.6ms inference, 2.1ms postprocess per image at shape (1, 3, 384, 640)

0: 384x640 11 cars, 1 truck, 146.3ms
Speed: 3.0ms preprocess, 146.3ms inference, 2.1ms postprocess per image at shape (1, 3, 384, 640)

0: 384x640 12 cars, 1 truck, 137.8ms
Speed: 3.2ms preprocess, 137.8ms inference, 1.1ms postprocess per image at shape (1, 3, 384, 640)

0: 384x640 12 cars, 129.7ms
Speed: 1.2ms preprocess, 129.7ms inference, 2.0ms postprocess per image at shape (1, 3, 384, 640)

0: 384x640 12 cars, 129.4ms
Speed: 2.0ms preprocess, 129.4ms inference, 2.9ms postprocess per image at shape (1, 3, 384, 640)

0: 384x640 12 cars, 128.2ms
Speed: 3.1ms preprocess, 128.2ms inference, 1.0ms postprocess per image at shape (1, 3, 384, 640)

0: 384x640 12 cars, 1 truck, 147.4ms
Speed: 3.5ms preprocess, 147.4ms inference, 4.0ms postprocess per image at shape (1, 3, 384, 640)

0: 384x640 12 cars, 130.9ms
Speed: 2.6ms preprocess, 130.9ms inference, 2.0ms postprocess per image at shape (1, 3, 384, 640)

0: 384x640 11 cars, 147.7ms
Speed: 2.0ms preprocess, 147.7ms inference, 2.0ms postprocess per image at shape (1, 3, 384, 640)

0: 384x640 10 cars, 1 truck, 138.9ms
Speed: 2.0ms preprocess, 138.9ms inference, 2.0ms postprocess per image at shape (1, 3, 384, 640)

0: 384x640 11 cars, 1 truck, 140.4ms
Speed: 4.0ms preprocess, 140.4ms inference, 2.1ms postprocess per image at shape (1, 3, 384, 640)

0: 384x640 11 cars, 140.4ms
Speed: 2.2ms preprocess, 140.4ms inference, 2.0ms postprocess per image at shape (1, 3, 384, 640)

0: 384x640 12 cars, 136.3ms
Speed: 3.1ms preprocess, 136.3ms inference, 1.9ms postprocess per image at shape (1, 3, 384, 640)

0: 384x640 12 cars, 176.2ms
Speed: 3.0ms preprocess, 176.2ms inference, 2.1ms postprocess per image at shape (1, 3, 384, 640)

0: 384x640 12 cars, 139.5ms
Speed: 1.9ms preprocess, 139.5ms inference, 3.0ms postprocess per image at shape (1, 3, 384, 640)

0: 384x640 12 cars, 153.5ms
Speed: 3.9ms preprocess, 153.5ms inference, 2.2ms postprocess per image at shape (1, 3, 384, 640)

0: 384x640 11 cars, 152.8ms
Speed: 3.4ms preprocess, 152.8ms inference, 2.0ms postprocess per image at shape (1, 3, 384, 640)

0: 384x640 11 cars, 144.9ms
Speed: 3.2ms preprocess, 144.9ms inference, 2.0ms postprocess per image at shape (1, 3, 384, 640)

0: 384x640 12 cars, 147.7ms
Speed: 2.0ms preprocess, 147.7ms inference, 2.0ms postprocess per image at shape (1, 3, 384, 640)

0: 384x640 10 cars, 137.1ms
Speed: 2.0ms preprocess, 137.1ms inference, 2.2ms postprocess per image at shape (1, 3, 384, 640)

0: 384x640 11 cars, 132.3ms
Speed: 2.3ms preprocess, 132.3ms inference, 2.1ms postprocess per image at shape (1, 3, 384, 640)

0: 384x640 11 cars, 140.7ms
Speed: 2.0ms preprocess, 140.7ms inference, 2.0ms postprocess per image at shape (1, 3, 384, 640)

0: 384x640 11 cars, 140.7ms
Speed: 4.0ms preprocess, 140.7ms inference, 2.0ms postprocess per image at shape (1, 3, 384, 640)

0: 384x640 11 cars, 135.5ms
Speed: 4.0ms preprocess, 135.5ms inference, 2.0ms postprocess per image at shape (1, 3, 384, 640)

0: 384x640 11 cars, 142.4ms
Speed: 1.9ms preprocess, 142.4ms inference, 5.0ms postprocess per image at shape (1, 3, 384, 640)

0: 384x640 12 cars, 128.5ms
Speed: 4.5ms preprocess, 128.5ms inference, 4.0ms postprocess per image at shape (1, 3, 384, 640)

0: 384x640 12 cars, 136.4ms
Speed: 1.9ms preprocess, 136.4ms inference, 2.0ms postprocess per image at shape (1, 3, 384, 640)

0: 384x640 12 cars, 138.6ms
Speed: 4.1ms preprocess, 138.6ms inference, 2.0ms postprocess per image at shape (1, 3, 384, 640)

0: 384x640 11 cars, 1 truck, 137.2ms
Speed: 2.1ms preprocess, 137.2ms inference, 2.0ms postprocess per image at shape (1, 3, 384, 640)

0: 384x640 11 cars, 1 train, 143.2ms
Speed: 2.7ms preprocess, 143.2ms inference, 2.0ms postprocess per image at shape (1, 3, 384, 640)

0: 384x640 12 cars, 136.5ms
Speed: 1.9ms preprocess, 136.5ms inference, 2.0ms postprocess per image at shape (1, 3, 384, 640)

0: 384x640 12 cars, 132.2ms
Speed: 2.0ms preprocess, 132.2ms inference, 1.0ms postprocess per image at shape (1, 3, 384, 640)

0: 384x640 12 cars, 128.8ms
Speed: 2.0ms preprocess, 128.8ms inference, 2.0ms postprocess per image at shape (1, 3, 384, 640)

0: 384x640 12 cars, 128.3ms
Speed: 1.9ms preprocess, 128.3ms inference, 2.0ms postprocess per image at shape (1, 3, 384, 640)

0: 384x640 13 cars, 156.8ms
Speed: 2.0ms preprocess, 156.8ms inference, 2.2ms postprocess per image at shape (1, 3, 384, 640)

0: 384x640 12 cars, 143.3ms
Speed: 2.4ms preprocess, 143.3ms inference, 2.0ms postprocess per image at shape (1, 3, 384, 640)

0: 384x640 11 cars, 131.9ms
Speed: 2.0ms preprocess, 131.9ms inference, 2.1ms postprocess per image at shape (1, 3, 384, 640)

0: 384x640 12 cars, 131.3ms
Speed: 2.0ms preprocess, 131.3ms inference, 2.0ms postprocess per image at shape (1, 3, 384, 640)

0: 384x640 11 cars, 137.3ms
Speed: 0.9ms preprocess, 137.3ms inference, 1.0ms postprocess per image at shape (1, 3, 384, 640)

0: 384x640 11 cars, 130.6ms
Speed: 2.0ms preprocess, 130.6ms inference, 2.0ms postprocess per image at shape (1, 3, 384, 640)

0: 384x640 11 cars, 128.8ms
Speed: 3.0ms preprocess, 128.8ms inference, 2.0ms postprocess per image at shape (1, 3, 384, 640)

0: 384x640 11 cars, 128.4ms
Speed: 2.0ms preprocess, 128.4ms inference, 2.0ms postprocess per image at shape (1, 3, 384, 640)

0: 384x640 11 cars, 131.1ms
Speed: 2.1ms preprocess, 131.1ms inference, 2.5ms postprocess per image at shape (1, 3, 384, 640)

0: 384x640 11 cars, 144.6ms
Speed: 2.1ms preprocess, 144.6ms inference, 2.0ms postprocess per image at shape (1, 3, 384, 640)

0: 384x640 11 cars, 129.4ms
Speed: 4.0ms preprocess, 129.4ms inference, 2.1ms postprocess per image at shape (1, 3, 384, 640)

0: 384x640 11 cars, 134.5ms
Speed: 2.9ms preprocess, 134.5ms inference, 2.0ms postprocess per image at shape (1, 3, 384, 640)

0: 384x640 11 cars, 134.6ms
Speed: 2.0ms preprocess, 134.6ms inference, 2.0ms postprocess per image at shape (1, 3, 384, 640)

0: 384x640 11 cars, 131.3ms
Speed: 2.5ms preprocess, 131.3ms inference, 1.0ms postprocess per image at shape (1, 3, 384, 640)

0: 384x640 11 cars, 1 bus, 130.7ms
Speed: 2.0ms preprocess, 130.7ms inference, 2.2ms postprocess per image at shape (1, 3, 384, 640)

0: 384x640 10 cars, 143.7ms
Speed: 2.0ms preprocess, 143.7ms inference, 1.9ms postprocess per image at shape (1, 3, 384, 640)

0: 384x640 10 cars, 1 bus, 141.7ms
Speed: 3.6ms preprocess, 141.7ms inference, 3.0ms postprocess per image at shape (1, 3, 384, 640)

0: 384x640 10 cars, 1 truck, 142.7ms
Speed: 4.0ms preprocess, 142.7ms inference, 2.1ms postprocess per image at shape (1, 3, 384, 640)

0: 384x640 11 cars, 136.5ms
Speed: 5.9ms preprocess, 136.5ms inference, 1.0ms postprocess per image at shape (1, 3, 384, 640)

0: 384x640 10 cars, 142.1ms
Speed: 2.0ms preprocess, 142.1ms inference, 3.1ms postprocess per image at shape (1, 3, 384, 640)

0: 384x640 9 cars, 136.2ms
Speed: 4.4ms preprocess, 136.2ms inference, 1.0ms postprocess per image at shape (1, 3, 384, 640)

0: 384x640 9 cars, 1 bus, 1 truck, 145.9ms
Speed: 2.0ms preprocess, 145.9ms inference, 2.0ms postprocess per image at shape (1, 3, 384, 640)

0: 384x640 9 cars, 142.6ms
Speed: 3.2ms preprocess, 142.6ms inference, 1.7ms postprocess per image at shape (1, 3, 384, 640)

0: 384x640 10 cars, 139.3ms
Speed: 2.1ms preprocess, 139.3ms inference, 2.0ms postprocess per image at shape (1, 3, 384, 640)

0: 384x640 11 cars, 133.0ms
Speed: 2.0ms preprocess, 133.0ms inference, 2.1ms postprocess per image at shape (1, 3, 384, 640)

0: 384x640 11 cars, 128.5ms
Speed: 2.1ms preprocess, 128.5ms inference, 2.3ms postprocess per image at shape (1, 3, 384, 640)

0: 384x640 10 cars, 177.7ms
Speed: 4.0ms preprocess, 177.7ms inference, 2.0ms postprocess per image at shape (1, 3, 384, 640)

0: 384x640 10 cars, 132.3ms
Speed: 2.0ms preprocess, 132.3ms inference, 2.0ms postprocess per image at shape (1, 3, 384, 640)

0: 384x640 10 cars, 131.0ms
Speed: 1.7ms preprocess, 131.0ms inference, 2.0ms postprocess per image at shape (1, 3, 384, 640)

0: 384x640 10 cars, 1 bus, 1 truck, 142.6ms
Speed: 2.0ms preprocess, 142.6ms inference, 2.0ms postprocess per image at shape (1, 3, 384, 640)

0: 384x640 12 cars, 1 bus, 1 truck, 135.2ms
Speed: 2.2ms preprocess, 135.2ms inference, 2.0ms postprocess per image at shape (1, 3, 384, 640)

0: 384x640 12 cars, 1 bus, 1 truck, 145.0ms
Speed: 2.1ms preprocess, 145.0ms inference, 3.0ms postprocess per image at shape (1, 3, 384, 640)

0: 384x640 12 cars, 1 truck, 137.7ms
Speed: 1.9ms preprocess, 137.7ms inference, 2.0ms postprocess per image at shape (1, 3, 384, 640)

0: 384x640 12 cars, 1 truck, 129.1ms
Speed: 2.0ms preprocess, 129.1ms inference, 1.0ms postprocess per image at shape (1, 3, 384, 640)

0: 384x640 12 cars, 1 bus, 131.8ms
Speed: 1.9ms preprocess, 131.8ms inference, 2.0ms postprocess per image at shape (1, 3, 384, 640)

0: 384x640 12 cars, 1 bus, 133.7ms
Speed: 2.1ms preprocess, 133.7ms inference, 2.0ms postprocess per image at shape (1, 3, 384, 640)

0: 384x640 12 cars, 1 truck, 162.4ms
Speed: 1.5ms preprocess, 162.4ms inference, 1.5ms postprocess per image at shape (1, 3, 384, 640)

0: 384x640 11 cars, 1 truck, 135.5ms
Speed: 2.0ms preprocess, 135.5ms inference, 1.0ms postprocess per image at shape (1, 3, 384, 640)

0: 384x640 11 cars, 1 truck, 126.9ms
Speed: 2.0ms preprocess, 126.9ms inference, 2.0ms postprocess per image at shape (1, 3, 384, 640)

0: 384x640 11 cars, 146.0ms
Speed: 1.0ms preprocess, 146.0ms inference, 2.0ms postprocess per image at shape (1, 3, 384, 640)

0: 384x640 11 cars, 1 truck, 138.2ms
Speed: 2.1ms preprocess, 138.2ms inference, 1.0ms postprocess per image at shape (1, 3, 384, 640)

0: 384x640 11 cars, 1 bus, 133.4ms
Speed: 2.0ms preprocess, 133.4ms inference, 2.1ms postprocess per image at shape (1, 3, 384, 640)

0: 384x640 12 cars, 1 bus, 138.4ms
Speed: 3.4ms preprocess, 138.4ms inference, 2.0ms postprocess per image at shape (1, 3, 384, 640)

0: 384x640 13 cars, 1 truck, 128.2ms
Speed: 3.0ms preprocess, 128.2ms inference, 2.1ms postprocess per image at shape (1, 3, 384, 640)

0: 384x640 12 cars, 1 bus, 140.5ms
Speed: 2.0ms preprocess, 140.5ms inference, 3.4ms postprocess per image at shape (1, 3, 384, 640)

0: 384x640 11 cars, 1 bus, 129.3ms
Speed: 4.0ms preprocess, 129.3ms inference, 2.0ms postprocess per image at shape (1, 3, 384, 640)

0: 384x640 12 cars, 1 bus, 1 truck, 131.2ms
Speed: 3.0ms preprocess, 131.2ms inference, 2.7ms postprocess per image at shape (1, 3, 384, 640)

0: 384x640 12 cars, 135.0ms
Speed: 2.0ms preprocess, 135.0ms inference, 3.1ms postprocess per image at shape (1, 3, 384, 640)

0: 384x640 12 cars, 130.5ms
Speed: 3.0ms preprocess, 130.5ms inference, 2.8ms postprocess per image at shape (1, 3, 384, 640)

0: 384x640 13 cars, 132.1ms
Speed: 4.0ms preprocess, 132.1ms inference, 2.0ms postprocess per image at shape (1, 3, 384, 640)

0: 384x640 13 cars, 1 truck, 176.7ms
Speed: 4.0ms preprocess, 176.7ms inference, 2.2ms postprocess per image at shape (1, 3, 384, 640)

0: 384x640 13 cars, 131.7ms
Speed: 3.0ms preprocess, 131.7ms inference, 3.0ms postprocess per image at shape (1, 3, 384, 640)

0: 384x640 11 cars, 129.8ms
Speed: 3.0ms preprocess, 129.8ms inference, 2.0ms postprocess per image at shape (1, 3, 384, 640)

0: 384x640 10 cars, 131.4ms
Speed: 4.1ms preprocess, 131.4ms inference, 3.0ms postprocess per image at shape (1, 3, 384, 640)

0: 384x640 10 cars, 130.8ms
Speed: 1.9ms preprocess, 130.8ms inference, 2.0ms postprocess per image at shape (1, 3, 384, 640)

0: 384x640 11 cars, 126.9ms
Speed: 4.0ms preprocess, 126.9ms inference, 2.0ms postprocess per image at shape (1, 3, 384, 640)

0: 384x640 10 cars, 132.1ms
Speed: 2.0ms preprocess, 132.1ms inference, 2.0ms postprocess per image at shape (1, 3, 384, 640)

0: 384x640 12 cars, 139.3ms
Speed: 3.0ms preprocess, 139.3ms inference, 2.0ms postprocess per image at shape (1, 3, 384, 640)

0: 384x640 12 cars, 130.4ms
Speed: 2.0ms preprocess, 130.4ms inference, 2.0ms postprocess per image at shape (1, 3, 384, 640)

0: 384x640 11 cars, 130.4ms
Speed: 2.0ms preprocess, 130.4ms inference, 1.2ms postprocess per image at shape (1, 3, 384, 640)

0: 384x640 11 cars, 131.4ms
Speed: 2.0ms preprocess, 131.4ms inference, 2.0ms postprocess per image at shape (1, 3, 384, 640)

0: 384x640 11 cars, 129.9ms
Speed: 4.0ms preprocess, 129.9ms inference, 2.0ms postprocess per image at shape (1, 3, 384, 640)

0: 384x640 11 cars, 135.3ms
Speed: 2.0ms preprocess, 135.3ms inference, 2.1ms postprocess per image at shape (1, 3, 384, 640)

0: 384x640 11 cars, 131.4ms
Speed: 2.9ms preprocess, 131.4ms inference, 4.0ms postprocess per image at shape (1, 3, 384, 640)

0: 384x640 11 cars, 140.8ms
Speed: 3.0ms preprocess, 140.8ms inference, 2.9ms postprocess per image at shape (1, 3, 384, 640)

0: 384x640 12 cars, 135.2ms
Speed: 2.1ms preprocess, 135.2ms inference, 2.0ms postprocess per image at shape (1, 3, 384, 640)

0: 384x640 15 cars, 137.9ms
Speed: 2.0ms preprocess, 137.9ms inference, 1.9ms postprocess per image at shape (1, 3, 384, 640)

0: 384x640 14 cars, 126.3ms
Speed: 2.1ms preprocess, 126.3ms inference, 2.0ms postprocess per image at shape (1, 3, 384, 640)

0: 384x640 13 cars, 132.3ms
Speed: 3.0ms preprocess, 132.3ms inference, 3.3ms postprocess per image at shape (1, 3, 384, 640)

0: 384x640 16 cars, 134.6ms
Speed: 1.9ms preprocess, 134.6ms inference, 2.0ms postprocess per image at shape (1, 3, 384, 640)

0: 384x640 12 cars, 130.9ms
Speed: 4.3ms preprocess, 130.9ms inference, 2.0ms postprocess per image at shape (1, 3, 384, 640)

0: 384x640 12 cars, 132.5ms
Speed: 3.9ms preprocess, 132.5ms inference, 3.0ms postprocess per image at shape (1, 3, 384, 640)

0: 384x640 13 cars, 130.0ms
Speed: 2.0ms preprocess, 130.0ms inference, 2.0ms postprocess per image at shape (1, 3, 384, 640)

0: 384x640 13 cars, 130.3ms
Speed: 2.9ms preprocess, 130.3ms inference, 2.9ms postprocess per image at shape (1, 3, 384, 640)

0: 384x640 16 cars, 134.4ms
Speed: 3.0ms preprocess, 134.4ms inference, 2.1ms postprocess per image at shape (1, 3, 384, 640)

0: 384x640 14 cars, 131.4ms
Speed: 4.0ms preprocess, 131.4ms inference, 2.1ms postprocess per image at shape (1, 3, 384, 640)

0: 384x640 14 cars, 181.2ms
Speed: 2.0ms preprocess, 181.2ms inference, 2.0ms postprocess per image at shape (1, 3, 384, 640)

0: 384x640 14 cars, 127.4ms
Speed: 2.9ms preprocess, 127.4ms inference, 1.9ms postprocess per image at shape (1, 3, 384, 640)

0: 384x640 14 cars, 152.6ms
Speed: 2.0ms preprocess, 152.6ms inference, 2.0ms postprocess per image at shape (1, 3, 384, 640)

0: 384x640 13 cars, 144.1ms
Speed: 4.5ms preprocess, 144.1ms inference, 4.0ms postprocess per image at shape (1, 3, 384, 640)

0: 384x640 13 cars, 134.1ms
Speed: 4.1ms preprocess, 134.1ms inference, 2.0ms postprocess per image at shape (1, 3, 384, 640)

0: 384x640 13 cars, 136.9ms
Speed: 2.3ms preprocess, 136.9ms inference, 1.9ms postprocess per image at shape (1, 3, 384, 640)

0: 384x640 12 cars, 131.7ms
Speed: 2.0ms preprocess, 131.7ms inference, 1.9ms postprocess per image at shape (1, 3, 384, 640)

0: 384x640 13 cars, 129.8ms
Speed: 1.9ms preprocess, 129.8ms inference, 1.9ms postprocess per image at shape (1, 3, 384, 640)

0: 384x640 13 cars, 132.7ms
Speed: 2.0ms preprocess, 132.7ms inference, 2.0ms postprocess per image at shape (1, 3, 384, 640)

0: 384x640 13 cars, 140.5ms
Speed: 3.0ms preprocess, 140.5ms inference, 3.0ms postprocess per image at shape (1, 3, 384, 640)

0: 384x640 14 cars, 137.2ms
Speed: 3.9ms preprocess, 137.2ms inference, 2.0ms postprocess per image at shape (1, 3, 384, 640)

0: 384x640 13 cars, 140.1ms
Speed: 2.0ms preprocess, 140.1ms inference, 2.0ms postprocess per image at shape (1, 3, 384, 640)

0: 384x640 13 cars, 1 truck, 146.8ms
Speed: 2.0ms preprocess, 146.8ms inference, 2.0ms postprocess per image at shape (1, 3, 384, 640)

0: 384x640 13 cars, 143.4ms
Speed: 2.2ms preprocess, 143.4ms inference, 2.0ms postprocess per image at shape (1, 3, 384, 640)

0: 384x640 14 cars, 144.5ms
Speed: 5.0ms preprocess, 144.5ms inference, 2.0ms postprocess per image at shape (1, 3, 384, 640)

0: 384x640 14 cars, 147.4ms
Speed: 1.9ms preprocess, 147.4ms inference, 2.0ms postprocess per image at shape (1, 3, 384, 640)

0: 384x640 13 cars, 1 truck, 160.7ms
Speed: 2.0ms preprocess, 160.7ms inference, 3.0ms postprocess per image at shape (1, 3, 384, 640)

0: 384x640 14 cars, 157.3ms
Speed: 2.0ms preprocess, 157.3ms inference, 2.0ms postprocess per image at shape (1, 3, 384, 640)

0: 384x640 14 cars, 153.6ms
Speed: 2.0ms preprocess, 153.6ms inference, 1.9ms postprocess per image at shape (1, 3, 384, 640)

0: 384x640 13 cars, 156.3ms
Speed: 1.9ms preprocess, 156.3ms inference, 2.1ms postprocess per image at shape (1, 3, 384, 640)

0: 384x640 15 cars, 151.9ms
Speed: 2.0ms preprocess, 151.9ms inference, 2.0ms postprocess per image at shape (1, 3, 384, 640)

0: 384x640 15 cars, 152.2ms
Speed: 2.0ms preprocess, 152.2ms inference, 3.0ms postprocess per image at shape (1, 3, 384, 640)

0: 384x640 16 cars, 154.4ms
Speed: 4.0ms preprocess, 154.4ms inference, 2.0ms postprocess per image at shape (1, 3, 384, 640)

0: 384x640 15 cars, 146.6ms
Speed: 1.9ms preprocess, 146.6ms inference, 2.0ms postprocess per image at shape (1, 3, 384, 640)

0: 384x640 15 cars, 147.6ms
Speed: 1.9ms preprocess, 147.6ms inference, 1.9ms postprocess per image at shape (1, 3, 384, 640)

0: 384x640 14 cars, 152.2ms
Speed: 2.0ms preprocess, 152.2ms inference, 2.1ms postprocess per image at shape (1, 3, 384, 640)

0: 384x640 16 cars, 180.9ms
Speed: 3.0ms preprocess, 180.9ms inference, 2.0ms postprocess per image at shape (1, 3, 384, 640)

0: 384x640 17 cars, 151.4ms
Speed: 3.0ms preprocess, 151.4ms inference, 2.0ms postprocess per image at shape (1, 3, 384, 640)

0: 384x640 17 cars, 156.3ms
Speed: 2.0ms preprocess, 156.3ms inference, 2.0ms postprocess per image at shape (1, 3, 384, 640)

0: 384x640 14 cars, 165.9ms
Speed: 2.7ms preprocess, 165.9ms inference, 2.0ms postprocess per image at shape (1, 3, 384, 640)

0: 384x640 17 cars, 151.0ms
Speed: 1.9ms preprocess, 151.0ms inference, 2.1ms postprocess per image at shape (1, 3, 384, 640)

0: 384x640 17 cars, 149.2ms
Speed: 1.9ms preprocess, 149.2ms inference, 2.0ms postprocess per image at shape (1, 3, 384, 640)

0: 384x640 17 cars, 1 truck, 146.5ms
Speed: 2.0ms preprocess, 146.5ms inference, 2.0ms postprocess per image at shape (1, 3, 384, 640)

0: 384x640 16 cars, 1 truck, 146.4ms
Speed: 1.0ms preprocess, 146.4ms inference, 2.1ms postprocess per image at shape (1, 3, 384, 640)

0: 384x640 16 cars, 1 truck, 156.3ms
Speed: 2.0ms preprocess, 156.3ms inference, 2.0ms postprocess per image at shape (1, 3, 384, 640)

0: 384x640 15 cars, 1 truck, 149.1ms
Speed: 5.1ms preprocess, 149.1ms inference, 3.0ms postprocess per image at shape (1, 3, 384, 640)

0: 384x640 15 cars, 146.7ms
Speed: 2.0ms preprocess, 146.7ms inference, 2.0ms postprocess per image at shape (1, 3, 384, 640)

0: 384x640 16 cars, 143.3ms
Speed: 4.0ms preprocess, 143.3ms inference, 2.0ms postprocess per image at shape (1, 3, 384, 640)

0: 384x640 14 cars, 149.1ms
Speed: 1.9ms preprocess, 149.1ms inference, 2.0ms postprocess per image at shape (1, 3, 384, 640)

0: 384x640 16 cars, 148.9ms
Speed: 2.0ms preprocess, 148.9ms inference, 2.1ms postprocess per image at shape (1, 3, 384, 640)

0: 384x640 16 cars, 1 truck, 149.7ms
Speed: 2.7ms preprocess, 149.7ms inference, 2.0ms postprocess per image at shape (1, 3, 384, 640)

0: 384x640 16 cars, 160.7ms
Speed: 3.0ms preprocess, 160.7ms inference, 2.3ms postprocess per image at shape (1, 3, 384, 640)

0: 384x640 15 cars, 151.9ms
Speed: 2.5ms preprocess, 151.9ms inference, 2.0ms postprocess per image at shape (1, 3, 384, 640)

0: 384x640 15 cars, 147.7ms
Speed: 2.0ms preprocess, 147.7ms inference, 2.0ms postprocess per image at shape (1, 3, 384, 640)

0: 384x640 16 cars, 147.0ms
Speed: 2.2ms preprocess, 147.0ms inference, 1.1ms postprocess per image at shape (1, 3, 384, 640)

0: 384x640 17 cars, 148.6ms
Speed: 2.0ms preprocess, 148.6ms inference, 2.0ms postprocess per image at shape (1, 3, 384, 640)

0: 384x640 16 cars, 142.4ms
Speed: 2.0ms preprocess, 142.4ms inference, 2.0ms postprocess per image at shape (1, 3, 384, 640)

0: 384x640 16 cars, 150.2ms
Speed: 2.1ms preprocess, 150.2ms inference, 2.0ms postprocess per image at shape (1, 3, 384, 640)

0: 384x640 16 cars, 147.7ms
Speed: 3.0ms preprocess, 147.7ms inference, 2.0ms postprocess per image at shape (1, 3, 384, 640)

0: 384x640 16 cars, 148.3ms
Speed: 2.0ms preprocess, 148.3ms inference, 2.1ms postprocess per image at shape (1, 3, 384, 640)

0: 384x640 17 cars, 147.3ms
Speed: 1.9ms preprocess, 147.3ms inference, 2.0ms postprocess per image at shape (1, 3, 384, 640)

0: 384x640 17 cars, 153.7ms
Speed: 2.1ms preprocess, 153.7ms inference, 2.1ms postprocess per image at shape (1, 3, 384, 640)

0: 384x640 17 cars, 191.2ms
Speed: 2.0ms preprocess, 191.2ms inference, 2.1ms postprocess per image at shape (1, 3, 384, 640)

0: 384x640 17 cars, 152.7ms
Speed: 1.0ms preprocess, 152.7ms inference, 3.0ms postprocess per image at shape (1, 3, 384, 640)

0: 384x640 17 cars, 177.6ms
Speed: 2.4ms preprocess, 177.6ms inference, 2.0ms postprocess per image at shape (1, 3, 384, 640)

0: 384x640 17 cars, 153.0ms
Speed: 2.0ms preprocess, 153.0ms inference, 2.0ms postprocess per image at shape (1, 3, 384, 640)

0: 384x640 17 cars, 154.1ms
Speed: 5.5ms preprocess, 154.1ms inference, 2.0ms postprocess per image at shape (1, 3, 384, 640)

0: 384x640 19 cars, 156.0ms
Speed: 1.9ms preprocess, 156.0ms inference, 4.1ms postprocess per image at shape (1, 3, 384, 640)

0: 384x640 17 cars, 144.9ms
Speed: 4.0ms preprocess, 144.9ms inference, 2.1ms postprocess per image at shape (1, 3, 384, 640)

0: 384x640 17 cars, 154.1ms
Speed: 1.6ms preprocess, 154.1ms inference, 2.0ms postprocess per image at shape (1, 3, 384, 640)

0: 384x640 17 cars, 1 truck, 165.7ms
Speed: 2.0ms preprocess, 165.7ms inference, 1.9ms postprocess per image at shape (1, 3, 384, 640)

0: 384x640 16 cars, 146.0ms
Speed: 2.0ms preprocess, 146.0ms inference, 2.0ms postprocess per image at shape (1, 3, 384, 640)

0: 384x640 17 cars, 146.6ms
Speed: 2.0ms preprocess, 146.6ms inference, 3.0ms postprocess per image at shape (1, 3, 384, 640)

0: 384x640 19 cars, 151.0ms
Speed: 2.0ms preprocess, 151.0ms inference, 2.0ms postprocess per image at shape (1, 3, 384, 640)

0: 384x640 19 cars, 142.0ms
Speed: 2.0ms preprocess, 142.0ms inference, 2.0ms postprocess per image at shape (1, 3, 384, 640)

0: 384x640 17 cars, 146.1ms
Speed: 2.0ms preprocess, 146.1ms inference, 2.1ms postprocess per image at shape (1, 3, 384, 640)

0: 384x640 18 cars, 146.4ms
Speed: 2.0ms preprocess, 146.4ms inference, 4.4ms postprocess per image at shape (1, 3, 384, 640)

0: 384x640 18 cars, 157.3ms
Speed: 4.7ms preprocess, 157.3ms inference, 2.0ms postprocess per image at shape (1, 3, 384, 640)

0: 384x640 17 cars, 146.4ms
Speed: 1.9ms preprocess, 146.4ms inference, 2.0ms postprocess per image at shape (1, 3, 384, 640)

0: 384x640 17 cars, 144.4ms
Speed: 2.0ms preprocess, 144.4ms inference, 2.0ms postprocess per image at shape (1, 3, 384, 640)

0: 384x640 17 cars, 143.0ms
Speed: 3.0ms preprocess, 143.0ms inference, 2.0ms postprocess per image at shape (1, 3, 384, 640)

0: 384x640 18 cars, 148.1ms
Speed: 2.1ms preprocess, 148.1ms inference, 2.0ms postprocess per image at shape (1, 3, 384, 640)

0: 384x640 17 cars, 142.9ms
Speed: 2.0ms preprocess, 142.9ms inference, 4.8ms postprocess per image at shape (1, 3, 384, 640)

0: 384x640 17 cars, 146.8ms
Speed: 2.0ms preprocess, 146.8ms inference, 2.0ms postprocess per image at shape (1, 3, 384, 640)

0: 384x640 18 cars, 148.4ms
Speed: 2.0ms preprocess, 148.4ms inference, 2.0ms postprocess per image at shape (1, 3, 384, 640)

0: 384x640 17 cars, 139.8ms
Speed: 2.0ms preprocess, 139.8ms inference, 2.0ms postprocess per image at shape (1, 3, 384, 640)

0: 384x640 17 cars, 143.9ms
Speed: 2.0ms preprocess, 143.9ms inference, 2.0ms postprocess per image at shape (1, 3, 384, 640)

0: 384x640 18 cars, 194.6ms
Speed: 1.9ms preprocess, 194.6ms inference, 2.0ms postprocess per image at shape (1, 3, 384, 640)

0: 384x640 17 cars, 145.6ms
Speed: 2.0ms preprocess, 145.6ms inference, 2.0ms postprocess per image at shape (1, 3, 384, 640)

0: 384x640 16 cars, 152.0ms
Speed: 3.0ms preprocess, 152.0ms inference, 2.5ms postprocess per image at shape (1, 3, 384, 640)

0: 384x640 17 cars, 156.0ms
Speed: 2.7ms preprocess, 156.0ms inference, 2.0ms postprocess per image at shape (1, 3, 384, 640)

0: 384x640 16 cars, 148.3ms
Speed: 2.0ms preprocess, 148.3ms inference, 2.0ms postprocess per image at shape (1, 3, 384, 640)

0: 384x640 16 cars, 146.5ms
Speed: 3.2ms preprocess, 146.5ms inference, 2.0ms postprocess per image at shape (1, 3, 384, 640)

0: 384x640 17 cars, 142.1ms
Speed: 3.0ms preprocess, 142.1ms inference, 2.0ms postprocess per image at shape (1, 3, 384, 640)

0: 384x640 16 cars, 145.3ms
Speed: 2.0ms preprocess, 145.3ms inference, 2.0ms postprocess per image at shape (1, 3, 384, 640)

0: 384x640 16 cars, 145.1ms
Speed: 2.0ms preprocess, 145.1ms inference, 2.0ms postprocess per image at shape (1, 3, 384, 640)

0: 384x640 16 cars, 144.7ms
Speed: 2.0ms preprocess, 144.7ms inference, 2.0ms postprocess per image at shape (1, 3, 384, 640)

0: 384x640 15 cars, 141.3ms
Speed: 3.0ms preprocess, 141.3ms inference, 2.0ms postprocess per image at shape (1, 3, 384, 640)

0: 384x640 17 cars, 145.1ms
Speed: 1.0ms preprocess, 145.1ms inference, 2.0ms postprocess per image at shape (1, 3, 384, 640)

0: 384x640 18 cars, 138.1ms
Speed: 2.0ms preprocess, 138.1ms inference, 2.0ms postprocess per image at shape (1, 3, 384, 640)

0: 384x640 19 cars, 142.9ms
Speed: 1.9ms preprocess, 142.9ms inference, 2.0ms postprocess per image at shape (1, 3, 384, 640)

0: 384x640 17 cars, 139.0ms
Speed: 2.9ms preprocess, 139.0ms inference, 2.0ms postprocess per image at shape (1, 3, 384, 640)

0: 384x640 16 cars, 143.9ms
Speed: 1.0ms preprocess, 143.9ms inference, 2.1ms postprocess per image at shape (1, 3, 384, 640)

0: 384x640 16 cars, 1 bus, 158.5ms
Speed: 2.7ms preprocess, 158.5ms inference, 3.0ms postprocess per image at shape (1, 3, 384, 640)

0: 384x640 18 cars, 141.5ms
Speed: 2.0ms preprocess, 141.5ms inference, 2.0ms postprocess per image at shape (1, 3, 384, 640)

0: 384x640 18 cars, 1 traffic light, 147.0ms
Speed: 1.9ms preprocess, 147.0ms inference, 2.0ms postprocess per image at shape (1, 3, 384, 640)

0: 384x640 18 cars, 1 traffic light, 141.3ms
Speed: 1.9ms preprocess, 141.3ms inference, 2.0ms postprocess per image at shape (1, 3, 384, 640)

0: 384x640 18 cars, 139.3ms
Speed: 2.0ms preprocess, 139.3ms inference, 2.0ms postprocess per image at shape (1, 3, 384, 640)

0: 384x640 18 cars, 137.3ms
Speed: 2.7ms preprocess, 137.3ms inference, 2.0ms postprocess per image at shape (1, 3, 384, 640)

0: 384x640 18 cars, 147.9ms
Speed: 3.0ms preprocess, 147.9ms inference, 2.0ms postprocess per image at shape (1, 3, 384, 640)

0: 384x640 18 cars, 140.6ms
Speed: 3.0ms preprocess, 140.6ms inference, 1.0ms postprocess per image at shape (1, 3, 384, 640)

0: 384x640 17 cars, 140.9ms
Speed: 2.0ms preprocess, 140.9ms inference, 2.0ms postprocess per image at shape (1, 3, 384, 640)

0: 384x640 16 cars, 137.9ms
Speed: 2.0ms preprocess, 137.9ms inference, 2.0ms postprocess per image at shape (1, 3, 384, 640)

0: 384x640 16 cars, 1 traffic light, 178.6ms
Speed: 2.0ms preprocess, 178.6ms inference, 3.0ms postprocess per image at shape (1, 3, 384, 640)

0: 384x640 17 cars, 147.0ms
Speed: 2.0ms preprocess, 147.0ms inference, 3.0ms postprocess per image at shape (1, 3, 384, 640)

0: 384x640 18 cars, 1 truck, 144.1ms
Speed: 2.1ms preprocess, 144.1ms inference, 3.0ms postprocess per image at shape (1, 3, 384, 640)

0: 384x640 17 cars, 163.8ms
Speed: 2.1ms preprocess, 163.8ms inference, 2.0ms postprocess per image at shape (1, 3, 384, 640)

0: 384x640 17 cars, 1 truck, 153.9ms
Speed: 1.9ms preprocess, 153.9ms inference, 2.0ms postprocess per image at shape (1, 3, 384, 640)

0: 384x640 15 cars, 1 traffic light, 144.3ms
Speed: 2.0ms preprocess, 144.3ms inference, 1.9ms postprocess per image at shape (1, 3, 384, 640)

0: 384x640 16 cars, 1 truck, 1 traffic light, 143.0ms
Speed: 2.7ms preprocess, 143.0ms inference, 2.0ms postprocess per image at shape (1, 3, 384, 640)

0: 384x640 17 cars, 133.1ms
Speed: 2.0ms preprocess, 133.1ms inference, 2.1ms postprocess per image at shape (1, 3, 384, 640)

0: 384x640 15 cars, 1 bus, 130.6ms
Speed: 2.1ms preprocess, 130.6ms inference, 2.0ms postprocess per image at shape (1, 3, 384, 640)

0: 384x640 16 cars, 1 truck, 141.2ms
Speed: 3.0ms preprocess, 141.2ms inference, 2.0ms postprocess per image at shape (1, 3, 384, 640)

0: 384x640 16 cars, 135.8ms
Speed: 2.0ms preprocess, 135.8ms inference, 3.0ms postprocess per image at shape (1, 3, 384, 640)

0: 384x640 16 cars, 1 truck, 1 traffic light, 144.5ms
Speed: 1.9ms preprocess, 144.5ms inference, 2.0ms postprocess per image at shape (1, 3, 384, 640)

0: 384x640 15 cars, 1 traffic light, 164.3ms
Speed: 2.0ms preprocess, 164.3ms inference, 2.0ms postprocess per image at shape (1, 3, 384, 640)

0: 384x640 16 cars, 146.6ms
Speed: 1.0ms preprocess, 146.6ms inference, 2.0ms postprocess per image at shape (1, 3, 384, 640)

0: 384x640 1 person, 17 cars, 1 truck, 145.2ms
Speed: 1.9ms preprocess, 145.2ms inference, 2.1ms postprocess per image at shape (1, 3, 384, 640)

0: 384x640 16 cars, 2 trucks, 147.1ms
Speed: 1.9ms preprocess, 147.1ms inference, 2.0ms postprocess per image at shape (1, 3, 384, 640)

0: 384x640 16 cars, 1 truck, 155.9ms
Speed: 2.0ms preprocess, 155.9ms inference, 2.0ms postprocess per image at shape (1, 3, 384, 640)

0: 384x640 17 cars, 1 truck, 153.2ms
Speed: 3.2ms preprocess, 153.2ms inference, 2.3ms postprocess per image at shape (1, 3, 384, 640)
Running command: C:/Users/eyabe/Downloads/ffmpeg-master-latest-win64-gpl/bin/ffmpeg.exe -y -i "./runs/detect/track\video.avi" -vf "fps=10,scale=640:-2" -b:v 2M "./runs/detect/track\detections_high_quality.gif"
<IPython.core.display.Image object>
